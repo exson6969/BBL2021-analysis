{
  "nbformat": 4,
  "nbformat_minor": 0,
  "metadata": {
    "colab": {
      "provenance": [],
      "authorship_tag": "ABX9TyNG26ACAj9EUa/ZXxZAo/Sa",
      "include_colab_link": true
    },
    "kernelspec": {
      "name": "python3",
      "display_name": "Python 3"
    },
    "language_info": {
      "name": "python"
    }
  },
  "cells": [
    {
      "cell_type": "markdown",
      "metadata": {
        "id": "view-in-github",
        "colab_type": "text"
      },
      "source": [
        "<a href=\"https://colab.research.google.com/github/exson6969/BBL2021-analysis/blob/main/espncrickinfo_scorecard_scrapper.ipynb\" target=\"_parent\"><img src=\"https://colab.research.google.com/assets/colab-badge.svg\" alt=\"Open In Colab\"/></a>"
      ]
    },
    {
      "cell_type": "code",
      "source": [
        "import requests\n",
        "import pandas as pd\n",
        "from bs4 import BeautifulSoup"
      ],
      "metadata": {
        "id": "4BzuhgQE_l9t"
      },
      "execution_count": null,
      "outputs": []
    },
    {
      "cell_type": "code",
      "execution_count": null,
      "metadata": {
        "colab": {
          "base_uri": "https://localhost:8080/"
        },
        "id": "sAJUUFni-vD0",
        "outputId": "d0419fc9-26da-43f0-cab1-f7cb0fb87a95"
      },
      "outputs": [
        {
          "output_type": "stream",
          "name": "stdout",
          "text": [
            "['/series/big-bash-league-2021-22-1269637/sydney-sixers-vs-melbourne-stars-1st-match-1269638/full-scorecard', '/series/big-bash-league-2021-22-1269637/sydney-thunder-vs-brisbane-heat-2nd-match-1269639/full-scorecard', '/series/big-bash-league-2021-22-1269637/melbourne-renegades-vs-adelaide-strikers-3rd-match-1269640/full-scorecard', '/series/big-bash-league-2021-22-1269637/hobart-hurricanes-vs-sydney-sixers-4th-match-1269641/full-scorecard', '/series/big-bash-league-2021-22-1269637/perth-scorchers-vs-brisbane-heat-5th-match-1269642/full-scorecard', '/series/big-bash-league-2021-22-1269637/adelaide-strikers-vs-melbourne-renegades-6th-match-1269643/full-scorecard', '/series/big-bash-league-2021-22-1269637/melbourne-stars-vs-sydney-thunder-7th-match-1269644/full-scorecard', '/series/big-bash-league-2021-22-1269637/sydney-sixers-vs-hobart-hurricanes-8th-match-1269645/full-scorecard', '/series/big-bash-league-2021-22-1269637/perth-scorchers-vs-adelaide-strikers-9th-match-1269646/full-scorecard', '/series/big-bash-league-2021-22-1269637/sydney-thunder-vs-melbourne-stars-10th-match-1269647/full-scorecard', '/series/big-bash-league-2021-22-1269637/brisbane-heat-vs-melbourne-renegades-11th-match-1269648/full-scorecard', '/series/big-bash-league-2021-22-1269637/hobart-hurricanes-vs-perth-scorchers-12th-match-1269649/full-scorecard', '/series/big-bash-league-2021-22-1269637/melbourne-stars-vs-sydney-sixers-13th-match-1269650/full-scorecard', '/series/big-bash-league-2021-22-1269637/brisbane-heat-vs-sydney-thunder-14th-match-1269651/full-scorecard', '/series/big-bash-league-2021-22-1269637/perth-scorchers-vs-hobart-hurricanes-15th-match-1269652/full-scorecard', '/series/big-bash-league-2021-22-1269637/sydney-sixers-vs-adelaide-strikers-16th-match-1269653/full-scorecard', '/series/big-bash-league-2021-22-1269637/melbourne-renegades-vs-perth-scorchers-17th-match-1269654/full-scorecard', '/series/big-bash-league-2021-22-1269637/adelaide-strikers-vs-brisbane-heat-18th-match-1269655/full-scorecard', '/series/big-bash-league-2021-22-1269637/hobart-hurricanes-vs-melbourne-stars-19th-match-1269656/full-scorecard', '/series/big-bash-league-2021-22-1269637/sydney-thunder-vs-sydney-sixers-20th-match-1269657/full-scorecard', '/series/big-bash-league-2021-22-1269637/perth-scorchers-vs-melbourne-renegades-21st-match-1269658/full-scorecard', '/series/big-bash-league-2021-22-1269637/hobart-hurricanes-vs-adelaide-strikers-22nd-match-1269659/full-scorecard', '/series/big-bash-league-2021-22-1269637/brisbane-heat-vs-melbourne-stars-23rd-match-1269660/full-scorecard', '/series/big-bash-league-2021-22-1269637/sydney-thunder-vs-perth-scorchers-24th-match-1269661/full-scorecard', '/series/big-bash-league-2021-22-1269637/sydney-sixers-vs-brisbane-heat-25th-match-1269662/full-scorecard', '/series/big-bash-league-2021-22-1269637/melbourne-renegades-vs-hobart-hurricanes-26th-match-1269663/full-scorecard', '/series/big-bash-league-2021-22-1269637/adelaide-strikers-vs-sydney-thunder-27th-match-1269665/full-scorecard', '/series/big-bash-league-2021-22-1269637/hobart-hurricanes-vs-brisbane-heat-28th-match-1269666/full-scorecard', '/series/big-bash-league-2021-22-1269637/sydney-sixers-vs-melbourne-renegades-29th-match-1269667/full-scorecard', '/series/big-bash-league-2021-22-1269637/melbourne-stars-vs-perth-scorchers-30th-match-1269668/full-scorecard', '/series/big-bash-league-2021-22-1269637/sydney-thunder-vs-adelaide-strikers-31st-match-1269669/full-scorecard', '/series/big-bash-league-2021-22-1269637/melbourne-stars-vs-melbourne-renegades-32nd-match-1269670/full-scorecard', '/series/big-bash-league-2021-22-1269637/perth-scorchers-vs-sydney-sixers-33rd-match-1269675/full-scorecard', '/series/big-bash-league-2021-22-1269637/adelaide-strikers-vs-hobart-hurricanes-34th-match-1269672/full-scorecard', '/series/big-bash-league-2021-22-1269637/melbourne-renegades-vs-brisbane-heat-35th-match-1269674/full-scorecard', '/series/big-bash-league-2021-22-1269637/perth-scorchers-vs-sydney-thunder-36th-match-1269673/full-scorecard', '/series/big-bash-league-2021-22-1269637/melbourne-renegades-vs-sydney-thunder-37th-match-1269677/full-scorecard', '/series/big-bash-league-2021-22-1269637/brisbane-heat-vs-hobart-hurricanes-38th-match-1269678/full-scorecard', '/series/big-bash-league-2021-22-1269637/sydney-sixers-vs-perth-scorchers-39th-match-1269679/full-scorecard', '/series/big-bash-league-2021-22-1269637/hobart-hurricanes-vs-sydney-thunder-40th-match-1269681/full-scorecard', '/series/big-bash-league-2021-22-1269637/melbourne-stars-vs-adelaide-strikers-41st-match-1269680/full-scorecard', '/series/big-bash-league-2021-22-1269637/perth-scorchers-vs-melbourne-stars-42nd-match-1269664/full-scorecard', '/series/big-bash-league-2021-22-1269637/melbourne-renegades-vs-sydney-sixers-43rd-match-1269682/full-scorecard', '/series/big-bash-league-2021-22-1269637/brisbane-heat-vs-adelaide-strikers-44th-match-1269683/full-scorecard', '/series/big-bash-league-2021-22-1269637/sydney-thunder-vs-hobart-hurricanes-45th-match-1269684/full-scorecard', '/series/big-bash-league-2021-22-1269637/melbourne-renegades-vs-melbourne-stars-46th-match-1269685/full-scorecard', '/series/big-bash-league-2021-22-1269637/adelaide-strikers-vs-perth-scorchers-47th-match-1269686/full-scorecard', '/series/big-bash-league-2021-22-1269637/adelaide-strikers-vs-melbourne-stars-48th-match-1269676/full-scorecard', '/series/big-bash-league-2021-22-1269637/sydney-sixers-vs-sydney-thunder-49th-match-1269687/full-scorecard', '/series/big-bash-league-2021-22-1269637/melbourne-stars-vs-brisbane-heat-50th-match-1269688/full-scorecard', '/series/big-bash-league-2021-22-1269637/adelaide-strikers-vs-sydney-sixers-51st-match-1269689/full-scorecard', '/series/big-bash-league-2021-22-1269637/brisbane-heat-vs-perth-scorchers-52nd-match-1269690/full-scorecard', '/series/big-bash-league-2021-22-1269637/hobart-hurricanes-vs-melbourne-renegades-53rd-match-1269691/full-scorecard', '/series/big-bash-league-2021-22-1269637/brisbane-heat-vs-sydney-sixers-54th-match-1269692/full-scorecard', '/series/big-bash-league-2021-22-1269637/sydney-thunder-vs-melbourne-renegades-55th-match-1269694/full-scorecard', '/series/big-bash-league-2021-22-1269637/melbourne-stars-vs-hobart-hurricanes-56th-match-1269693/full-scorecard', '/series/big-bash-league-2021-22-1269637/adelaide-strikers-vs-hobart-hurricanes-eliminator-1269671/full-scorecard', '/series/big-bash-league-2021-22-1269637/perth-scorchers-vs-sydney-sixers-qualifier-1269695/full-scorecard', '/series/big-bash-league-2021-22-1269637/sydney-thunder-vs-adelaide-strikers-knockout-1269696/full-scorecard', '/series/big-bash-league-2021-22-1269637/adelaide-strikers-vs-sydney-sixers-challenger-1269697/full-scorecard', '/series/big-bash-league-2021-22-1269637/perth-scorchers-vs-sydney-sixers-final-1269698/full-scorecard']\n",
            "61\n"
          ]
        }
      ],
      "source": [
        "page = requests.get('https://www.espncricinfo.com/series/big-bash-league-2021-22-1269637/match-schedule-fixtures-and-results')\n",
        "\n",
        "html_data = page.content\n",
        "\n",
        "soup = BeautifulSoup(html_data)\n",
        "\n",
        "match_page_list = []\n",
        "for a in soup.find_all('a', href=True):\n",
        "  if 'full-scorecard' in a['href']:\n",
        "    match_page_list.append(a['href'])\n",
        "print(match_page_list)\n",
        "print(len(match_page_list))"
      ]
    },
    {
      "cell_type": "code",
      "source": [
        "emt_bat_df = pd.DataFrame()\n",
        "emt_ball_df = pd.DataFrame()\n",
        "\n",
        "for subUrl in match_page_list:\n",
        "  try:\n",
        "    t1_batting = pd.read_html(f\"https://www.espncricinfo.com/{subUrl}\")[0]\n",
        "    t2_bowling = pd.read_html(f\"https://www.espncricinfo.com/{subUrl}\")[1]\n",
        "    t2_batting = pd.read_html(f\"https://www.espncricinfo.com/{subUrl}\")[2]\n",
        "    t1_bowling = pd.read_html(f\"https://www.espncricinfo.com/{subUrl}\")[3]\n",
        "\n",
        "    merg_batting = pd.concat([t1_batting, t2_batting],ignore_index=True)\n",
        "    merg_batting = merg_batting[merg_batting[\"BATTING\"].str.contains(\"Did not bat\") == False]\n",
        "    merg_batting = merg_batting[merg_batting[\"BATTING\"].str.contains(\"Fall of wickets:\") == False]\n",
        "    merg_batting = merg_batting[merg_batting[\"BATTING\"].str.contains(\"Extras\") == False]\n",
        "    merg_batting = merg_batting[merg_batting[\"BATTING\"].str.contains(\"TOTAL\") == False]\n",
        "    merg_batting = merg_batting.dropna(axis=1, how='all')\n",
        "    emt_bat_df = pd.concat([emt_bat_df, merg_batting],ignore_index=True)\n",
        "\n",
        "    merg_bowling = pd.concat([t1_bowling, t2_bowling],ignore_index=True)\n",
        "    merg_bowling = merg_bowling[~merg_bowling.M.str.contains(\" \", na=False)]\n",
        "    emt_ball_df = pd.concat([emt_ball_df, merg_bowling],ignore_index=True)\n",
        "  except:\n",
        "    print(subUrl)\n",
        "    \n",
        "\n",
        "final_data = pd.concat([emt_bat_df, emt_ball_df], axis=1,ignore_index=True)\n",
        "print(final_data)"
      ],
      "metadata": {
        "colab": {
          "base_uri": "https://localhost:8080/"
        },
        "id": "FFIkcDRu_cA4",
        "outputId": "57f43e04-5180-4358-e920-dde335017c84"
      },
      "execution_count": null,
      "outputs": [
        {
          "output_type": "stream",
          "name": "stdout",
          "text": [
            "/series/big-bash-league-2021-22-1269637/sydney-sixers-vs-melbourne-renegades-29th-match-1269667/full-scorecard\n",
            "                       0                        1   2   3   4  5  6       7   \\\n",
            "0         Josh Philippe †  c Cartwright b Rainbird  83  47  75  8  3  176.59   \n",
            "1             James Vince        c Zampa b Maxwell  44  29  39  6  0  151.72   \n",
            "2    Moises Henriques (c)                  not out  76  38  49  8  3  200.00   \n",
            "3           Dan Christian     c Cartwright b Couch   5   5   8  1  0  100.00   \n",
            "4              Tom Curran         c Larkin b Couch   0   1   3  0  0    0.00   \n",
            "..                    ...                      ...  ..  ..  .. .. ..     ...   \n",
            "989           Sean Abbott        c Patterson b Tye   1   9  12  0  0   11.11   \n",
            "990         Ben Dwarshuis          c †Inglis b Tye   0   2   6  0  0    0.00   \n",
            "991          Jay Lenton †                  not out  10   9  15  1  0  111.11   \n",
            "992           Nathan Lyon             b Richardson   3   3   6  0  0  100.00   \n",
            "993         Steve O'Keefe         lbw b Richardson   2   5  10  0  0   40.00   \n",
            "\n",
            "                8    9    10   11   12    13   14   15   16   17   18  \n",
            "0    Steve O'Keefe    4    0   14    4  3.50   14    1    0    1    0  \n",
            "1      Sean Abbott    3    0   14    3  4.66   11    0    1    0    0  \n",
            "2     Chris Jordan    2    0   15    0  7.50    8    1    0    1    0  \n",
            "3       Tom Curran  1.1    0    9    1  7.71    2    1    0    0    0  \n",
            "4      Hayden Kerr    1    0    6    2  6.00    3    1    0    0    0  \n",
            "..             ...  ...  ...  ...  ...   ...  ...  ...  ...  ...  ...  \n",
            "989            NaN  NaN  NaN  NaN  NaN   NaN  NaN  NaN  NaN  NaN  NaN  \n",
            "990            NaN  NaN  NaN  NaN  NaN   NaN  NaN  NaN  NaN  NaN  NaN  \n",
            "991            NaN  NaN  NaN  NaN  NaN   NaN  NaN  NaN  NaN  NaN  NaN  \n",
            "992            NaN  NaN  NaN  NaN  NaN   NaN  NaN  NaN  NaN  NaN  NaN  \n",
            "993            NaN  NaN  NaN  NaN  NaN   NaN  NaN  NaN  NaN  NaN  NaN  \n",
            "\n",
            "[994 rows x 19 columns]\n"
          ]
        }
      ]
    },
    {
      "cell_type": "code",
      "source": [
        "final_data.to_csv('bblData.csv')"
      ],
      "metadata": {
        "id": "HkeJL71bOd2U"
      },
      "execution_count": null,
      "outputs": []
    }
  ]
}